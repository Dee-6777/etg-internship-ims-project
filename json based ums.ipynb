{
 "cells": [
  {
   "cell_type": "code",
   "execution_count": 35,
   "id": "fae986ac",
   "metadata": {},
   "outputs": [],
   "source": [
    "record = { 1001 : { \"name\": \"dairy milk \", \"price\": 20, \"quantity\": 100,\"date of manufacturing\" : \"1st Aug 2021\", \"expiry date\": \"12th sept 2021\"},\n",
    "           1002 : { \"name\": \"kitkat \", \"price\": 10, \"quantity\": 100,\"date of manufacturing\" : \"5th Aug 2021\", \"expiry date\": \"11th sept 2021\"},\n",
    "           1003 : { \"name\":  \"perk\", \"price\": 15, \"quantity\": 90,\"date of manufacturing\" : \"3rd Aug 2021\", \"expiry date\": \"9th sept 2021\"},\n",
    "           1004 : { \"name\": \"gems \", \"price\": 5, \"quantity\": 95,\"date of manufacturing\" : \"2nd Aug 2021\", \"expiry date\": \"7th sept 2021\"},\n",
    "           1005 : { \"name\": \"bounville \", \"price\": 200, \"quantity\": 200,\"date of manufacturing\" : \"21st Aug 2021\", \"expiry date\": \"22nd sept 2021\"},\n",
    "           1006 : { \"name\": \"milky bar \", \"price\": 25, \"quantity\": 10,\"date of manufacturing\" : \"4th Aug 2021\", \"expiry date\": \"15th sept 2021\"},\n",
    "           1007 : { \"name\": \"dairy milk silk \", \"price\": 100, \"quantity\": 110,\"date of manufacturing\" : \"14th Aug 2021\", \"expiry date\": \"25th sept 2021\"},\n",
    "           1008 : { \"name\": \"dairy milk oreo\", \"price\": 180, \"quantity\": 150,\"date ofmanufacturing \" : \"6th Aug 2021\", \"expiry date\": \"14th sept 2021\"},\n",
    "           1009 : { \"name\": \"dairy milk fruit&nut \", \"price\": 40, \"quantity\": 160,\"date of manufacturing\" : \"11th Aug 2021\", \"expiry date\": \"19th sept 2021\"},\n",
    "           1010 : { \"name\": \"dairy milk bubbly\", \"price\": 80, \"quantity\": 130,\"date of manufacturing\" : \"19th Aug 2021\", \"expiry date\": \"27th sept 2021\"},\n",
    "           1011 : { \"name\": \"dairy milk red velvet \", \"price\": 220, \"quantity\": 70,\"date of manufacturing\" : \"18th Aug 2021\", \"expiry date\": \"26th sept 2021\"},\n",
    "           1012 : { \"name\": \"dairy milk almonds\", \"price\": 50, \"quantity\": 10,\"date of manufacturing\" : \"10th Aug 2021\", \"expiry date\": \"18th sept 2021\"},\n",
    "           1013 : { \"name\": \"munch \", \"price\": 10, \"quantity\": 100,\"date of manufacturing\" : \"1st Aug 2021\", \"expiry date\": \"10th sept 2021\"},\n",
    "           1014 : { \"name\": \"kinder joy \", \"price\": 40, \"quantity\": 105,\"date of manufacturing\" : \"21st Aug 2021\", \"expiry date\": \"12th oct 2021\"},\n",
    "           1015 : { \"name\": \"coffee bite \", \"price\": 1, \"quantity\": 500,\"date of manufacturing\" : \"23rd Aug 2021\", \"expiry date\": \"30th sept 2021\"},\n",
    "           1016 : { \"name\": \"centre fresh \", \"price\": 2, \"quantity\": 300,\"date of manufacturing\" : \"9th Aug 2021\", \"expiry date\": \"28th sept 2021\"},\n",
    "           1017 : { \"name\": \"vicks \", \"price\": 3, \"quantity\": 150,\"date of manufacturing\" : \"11th Aug 2021\", \"expiry date\": \"21st sept 2021\"},\n",
    "           1018 : { \"name\": \"kacha mango bite \", \"price\": 0.50, \"quantity\": 100,\"date of manufacturing\" : \"13th Aug 2021\", \"expiry date\": \"15th sept 2021\"},\n",
    "           1019 : { \"name\": \"amul dark chocolate \", \"price\": 100, \"quantity\": 80,\"date of manufacturing\" : \"28th Aug 2021\", \"expiry date\": \"11th oct 2021\"},\n",
    "           1020 : { \"name\": \"alpenliebe \", \"price\": 50, \"quantity\": 600,\"date of manufacturing\" : \"30th Aug 2021\", \"expiry date\": \"22nd oct 2021\"},\n",
    "           1121 : { \"name\": \"just jelly \", \"price\": 1.50, \"quantity\": 550,\"date of manufacturing\" : \"25th Aug 2021\", \"expiry date\": \"5th oct 2021\"},\n",
    "           1022 : { \"name\": \"amul chocominis \", \"price\": 120, \"quantity\": 1000,\"date of manufacturing\" : \"13th Aug 2021\", \"expiry date\": \"12th oct 2021\"},\n",
    "           1023 : { \"name\": \"ferrero rocher chocolate \", \"price\": 137, \"quantity\": 65,\"date of manufacturing\" : \"7th Aug 2021\", \"expiry date\": \"2nd oct 2021\"}, \n",
    "           1024 : { \"name\": \"hershey's kisses cookies \", \"price\": 139, \"quantity\": 75,\"date of manufacturing\" : \"15th Aug 2021\", \"expiry date\": \"6th oct 2021\"},\n",
    "           1025 : { \"name\": \"snickers \", \"price\": 35, \"quantity\": 120,\"date of manufacturing\" : \"22nd Aug 2021\", \"expiry date\": \"5th oct 2021\"},\n",
    "           1026 : { \"name\": \"5 star \", \"price\": 20, \"quantity\": 105,\"date of manufacturing\" : \"24th Aug 2021\", \"expiry date\": \"1st oct 2021\"},\n",
    "           1027 : { \"name\": \"mars\", \"price\": 22, \"quantity\": 170,\"date of manufacturing\" : \"29th Aug 2021\", \"expiry date\": \"28th oct 2021\"},\n",
    "           1028 : { \"name\": \"nullies \", \"price\": 17, \"quantity\": 180,\"date of manufacturing\" : \"1st Aug 2021\", \"expiry date\": \"1st oct 2021\"},\n",
    "           1029 : { \"name\": \"alpenliebe lollipop \", \"price\": 2.5, \"quantity\": 115,\"date of manufacturing\" : \"4th Aug 2021\", \"expiry date\": \"5th sept 2021\"},\n",
    "           1030 : { \"name\": \"dairy milk shots \", \"price\": 40, \"quantity\": 350,\"date of manufacturing\" : \"26th Aug 2021\", \"expiry date\": \"16th oct 2021\"},\n",
    "         }"
   ]
  },
  {
   "cell_type": "code",
   "execution_count": 36,
   "id": "4d8e1aec",
   "metadata": {},
   "outputs": [],
   "source": [
    "import json\n"
   ]
  },
  {
   "cell_type": "code",
   "execution_count": 37,
   "id": "79d60340",
   "metadata": {},
   "outputs": [],
   "source": [
    "js= json.dumps(record)"
   ]
  },
  {
   "cell_type": "code",
   "execution_count": 38,
   "id": "49726e2e",
   "metadata": {},
   "outputs": [
    {
     "data": {
      "text/plain": [
       "'{\"1001\": {\"name\": \"dairy milk \", \"price\": 20, \"quantity\": 100, \"date of manufacturing\": \"1st Aug 2021\", \"expiry date\": \"12th sept 2021\"}, \"1002\": {\"name\": \"kitkat \", \"price\": 10, \"quantity\": 100, \"date of manufacturing\": \"5th Aug 2021\", \"expiry date\": \"11th sept 2021\"}, \"1003\": {\"name\": \"perk\", \"price\": 15, \"quantity\": 90, \"date of manufacturing\": \"3rd Aug 2021\", \"expiry date\": \"9th sept 2021\"}, \"1004\": {\"name\": \"gems \", \"price\": 5, \"quantity\": 95, \"date of manufacturing\": \"2nd Aug 2021\", \"expiry date\": \"7th sept 2021\"}, \"1005\": {\"name\": \"bounville \", \"price\": 200, \"quantity\": 200, \"date of manufacturing\": \"21st Aug 2021\", \"expiry date\": \"22nd sept 2021\"}, \"1006\": {\"name\": \"milky bar \", \"price\": 25, \"quantity\": 10, \"date of manufacturing\": \"4th Aug 2021\", \"expiry date\": \"15th sept 2021\"}, \"1007\": {\"name\": \"dairy milk silk \", \"price\": 100, \"quantity\": 110, \"date of manufacturing\": \"14th Aug 2021\", \"expiry date\": \"25th sept 2021\"}, \"1008\": {\"name\": \"dairy milk oreo\", \"price\": 180, \"quantity\": 150, \"date ofmanufacturing \": \"6th Aug 2021\", \"expiry date\": \"14th sept 2021\"}, \"1009\": {\"name\": \"dairy milk fruit&nut \", \"price\": 40, \"quantity\": 160, \"date of manufacturing\": \"11th Aug 2021\", \"expiry date\": \"19th sept 2021\"}, \"1010\": {\"name\": \"dairy milk bubbly\", \"price\": 80, \"quantity\": 130, \"date of manufacturing\": \"19th Aug 2021\", \"expiry date\": \"27th sept 2021\"}, \"1011\": {\"name\": \"dairy milk red velvet \", \"price\": 220, \"quantity\": 70, \"date of manufacturing\": \"18th Aug 2021\", \"expiry date\": \"26th sept 2021\"}, \"1012\": {\"name\": \"dairy milk almonds\", \"price\": 50, \"quantity\": 10, \"date of manufacturing\": \"10th Aug 2021\", \"expiry date\": \"18th sept 2021\"}, \"1013\": {\"name\": \"munch \", \"price\": 10, \"quantity\": 100, \"date of manufacturing\": \"1st Aug 2021\", \"expiry date\": \"10th sept 2021\"}, \"1014\": {\"name\": \"kinder joy \", \"price\": 40, \"quantity\": 105, \"date of manufacturing\": \"21st Aug 2021\", \"expiry date\": \"12th oct 2021\"}, \"1015\": {\"name\": \"coffee bite \", \"price\": 1, \"quantity\": 500, \"date of manufacturing\": \"23rd Aug 2021\", \"expiry date\": \"30th sept 2021\"}, \"1016\": {\"name\": \"centre fresh \", \"price\": 2, \"quantity\": 300, \"date of manufacturing\": \"9th Aug 2021\", \"expiry date\": \"28th sept 2021\"}, \"1017\": {\"name\": \"vicks \", \"price\": 3, \"quantity\": 150, \"date of manufacturing\": \"11th Aug 2021\", \"expiry date\": \"21st sept 2021\"}, \"1018\": {\"name\": \"kacha mango bite \", \"price\": 0.5, \"quantity\": 100, \"date of manufacturing\": \"13th Aug 2021\", \"expiry date\": \"15th sept 2021\"}, \"1019\": {\"name\": \"amul dark chocolate \", \"price\": 100, \"quantity\": 80, \"date of manufacturing\": \"28th Aug 2021\", \"expiry date\": \"11th oct 2021\"}, \"1020\": {\"name\": \"alpenliebe \", \"price\": 50, \"quantity\": 600, \"date of manufacturing\": \"30th Aug 2021\", \"expiry date\": \"22nd oct 2021\"}, \"1121\": {\"name\": \"just jelly \", \"price\": 1.5, \"quantity\": 550, \"date of manufacturing\": \"25th Aug 2021\", \"expiry date\": \"5th oct 2021\"}, \"1022\": {\"name\": \"amul chocominis \", \"price\": 120, \"quantity\": 1000, \"date of manufacturing\": \"13th Aug 2021\", \"expiry date\": \"12th oct 2021\"}, \"1023\": {\"name\": \"ferrero rocher chocolate \", \"price\": 137, \"quantity\": 65, \"date of manufacturing\": \"7th Aug 2021\", \"expiry date\": \"2nd oct 2021\"}, \"1024\": {\"name\": \"hershey\\'s kisses cookies \", \"price\": 139, \"quantity\": 75, \"date of manufacturing\": \"15th Aug 2021\", \"expiry date\": \"6th oct 2021\"}, \"1025\": {\"name\": \"snickers \", \"price\": 35, \"quantity\": 120, \"date of manufacturing\": \"22nd Aug 2021\", \"expiry date\": \"5th oct 2021\"}, \"1026\": {\"name\": \"5 star \", \"price\": 20, \"quantity\": 105, \"date of manufacturing\": \"24th Aug 2021\", \"expiry date\": \"1st oct 2021\"}, \"1027\": {\"name\": \"mars\", \"price\": 22, \"quantity\": 170, \"date of manufacturing\": \"29th Aug 2021\", \"expiry date\": \"28th oct 2021\"}, \"1028\": {\"name\": \"nullies \", \"price\": 17, \"quantity\": 180, \"date of manufacturing\": \"1st Aug 2021\", \"expiry date\": \"1st oct 2021\"}, \"1029\": {\"name\": \"alpenliebe lollipop \", \"price\": 2.5, \"quantity\": 115, \"date of manufacturing\": \"4th Aug 2021\", \"expiry date\": \"5th sept 2021\"}, \"1030\": {\"name\": \"dairy milk shots \", \"price\": 40, \"quantity\": 350, \"date of manufacturing\": \"26th Aug 2021\", \"expiry date\": \"16th oct 2021\"}}'"
      ]
     },
     "execution_count": 38,
     "metadata": {},
     "output_type": "execute_result"
    }
   ],
   "source": [
    "js"
   ]
  },
  {
   "cell_type": "code",
   "execution_count": 39,
   "id": "2f2f4d52",
   "metadata": {},
   "outputs": [],
   "source": [
    "fd = open(\"record.json\",'w')\n",
    "fd.write(js)\n",
    "fd.close()"
   ]
  },
  {
   "cell_type": "code",
   "execution_count": 40,
   "id": "300185f4",
   "metadata": {},
   "outputs": [],
   "source": [
    "fd = open(\"record.json\",'r')\n",
    "txt=fd.read()\n",
    "fd.close()"
   ]
  },
  {
   "cell_type": "code",
   "execution_count": 41,
   "id": "269ad780",
   "metadata": {},
   "outputs": [],
   "source": [
    "record= json.loads(txt)"
   ]
  },
  {
   "cell_type": "code",
   "execution_count": 42,
   "id": "42954347",
   "metadata": {},
   "outputs": [
    {
     "data": {
      "text/plain": [
       "{'1001': {'name': 'dairy milk ',\n",
       "  'price': 20,\n",
       "  'quantity': 100,\n",
       "  'date of manufacturing': '1st Aug 2021',\n",
       "  'expiry date': '12th sept 2021'},\n",
       " '1002': {'name': 'kitkat ',\n",
       "  'price': 10,\n",
       "  'quantity': 100,\n",
       "  'date of manufacturing': '5th Aug 2021',\n",
       "  'expiry date': '11th sept 2021'},\n",
       " '1003': {'name': 'perk',\n",
       "  'price': 15,\n",
       "  'quantity': 90,\n",
       "  'date of manufacturing': '3rd Aug 2021',\n",
       "  'expiry date': '9th sept 2021'},\n",
       " '1004': {'name': 'gems ',\n",
       "  'price': 5,\n",
       "  'quantity': 95,\n",
       "  'date of manufacturing': '2nd Aug 2021',\n",
       "  'expiry date': '7th sept 2021'},\n",
       " '1005': {'name': 'bounville ',\n",
       "  'price': 200,\n",
       "  'quantity': 200,\n",
       "  'date of manufacturing': '21st Aug 2021',\n",
       "  'expiry date': '22nd sept 2021'},\n",
       " '1006': {'name': 'milky bar ',\n",
       "  'price': 25,\n",
       "  'quantity': 10,\n",
       "  'date of manufacturing': '4th Aug 2021',\n",
       "  'expiry date': '15th sept 2021'},\n",
       " '1007': {'name': 'dairy milk silk ',\n",
       "  'price': 100,\n",
       "  'quantity': 110,\n",
       "  'date of manufacturing': '14th Aug 2021',\n",
       "  'expiry date': '25th sept 2021'},\n",
       " '1008': {'name': 'dairy milk oreo',\n",
       "  'price': 180,\n",
       "  'quantity': 150,\n",
       "  'date ofmanufacturing ': '6th Aug 2021',\n",
       "  'expiry date': '14th sept 2021'},\n",
       " '1009': {'name': 'dairy milk fruit&nut ',\n",
       "  'price': 40,\n",
       "  'quantity': 160,\n",
       "  'date of manufacturing': '11th Aug 2021',\n",
       "  'expiry date': '19th sept 2021'},\n",
       " '1010': {'name': 'dairy milk bubbly',\n",
       "  'price': 80,\n",
       "  'quantity': 130,\n",
       "  'date of manufacturing': '19th Aug 2021',\n",
       "  'expiry date': '27th sept 2021'},\n",
       " '1011': {'name': 'dairy milk red velvet ',\n",
       "  'price': 220,\n",
       "  'quantity': 70,\n",
       "  'date of manufacturing': '18th Aug 2021',\n",
       "  'expiry date': '26th sept 2021'},\n",
       " '1012': {'name': 'dairy milk almonds',\n",
       "  'price': 50,\n",
       "  'quantity': 10,\n",
       "  'date of manufacturing': '10th Aug 2021',\n",
       "  'expiry date': '18th sept 2021'},\n",
       " '1013': {'name': 'munch ',\n",
       "  'price': 10,\n",
       "  'quantity': 100,\n",
       "  'date of manufacturing': '1st Aug 2021',\n",
       "  'expiry date': '10th sept 2021'},\n",
       " '1014': {'name': 'kinder joy ',\n",
       "  'price': 40,\n",
       "  'quantity': 105,\n",
       "  'date of manufacturing': '21st Aug 2021',\n",
       "  'expiry date': '12th oct 2021'},\n",
       " '1015': {'name': 'coffee bite ',\n",
       "  'price': 1,\n",
       "  'quantity': 500,\n",
       "  'date of manufacturing': '23rd Aug 2021',\n",
       "  'expiry date': '30th sept 2021'},\n",
       " '1016': {'name': 'centre fresh ',\n",
       "  'price': 2,\n",
       "  'quantity': 300,\n",
       "  'date of manufacturing': '9th Aug 2021',\n",
       "  'expiry date': '28th sept 2021'},\n",
       " '1017': {'name': 'vicks ',\n",
       "  'price': 3,\n",
       "  'quantity': 150,\n",
       "  'date of manufacturing': '11th Aug 2021',\n",
       "  'expiry date': '21st sept 2021'},\n",
       " '1018': {'name': 'kacha mango bite ',\n",
       "  'price': 0.5,\n",
       "  'quantity': 100,\n",
       "  'date of manufacturing': '13th Aug 2021',\n",
       "  'expiry date': '15th sept 2021'},\n",
       " '1019': {'name': 'amul dark chocolate ',\n",
       "  'price': 100,\n",
       "  'quantity': 80,\n",
       "  'date of manufacturing': '28th Aug 2021',\n",
       "  'expiry date': '11th oct 2021'},\n",
       " '1020': {'name': 'alpenliebe ',\n",
       "  'price': 50,\n",
       "  'quantity': 600,\n",
       "  'date of manufacturing': '30th Aug 2021',\n",
       "  'expiry date': '22nd oct 2021'},\n",
       " '1121': {'name': 'just jelly ',\n",
       "  'price': 1.5,\n",
       "  'quantity': 550,\n",
       "  'date of manufacturing': '25th Aug 2021',\n",
       "  'expiry date': '5th oct 2021'},\n",
       " '1022': {'name': 'amul chocominis ',\n",
       "  'price': 120,\n",
       "  'quantity': 1000,\n",
       "  'date of manufacturing': '13th Aug 2021',\n",
       "  'expiry date': '12th oct 2021'},\n",
       " '1023': {'name': 'ferrero rocher chocolate ',\n",
       "  'price': 137,\n",
       "  'quantity': 65,\n",
       "  'date of manufacturing': '7th Aug 2021',\n",
       "  'expiry date': '2nd oct 2021'},\n",
       " '1024': {'name': \"hershey's kisses cookies \",\n",
       "  'price': 139,\n",
       "  'quantity': 75,\n",
       "  'date of manufacturing': '15th Aug 2021',\n",
       "  'expiry date': '6th oct 2021'},\n",
       " '1025': {'name': 'snickers ',\n",
       "  'price': 35,\n",
       "  'quantity': 120,\n",
       "  'date of manufacturing': '22nd Aug 2021',\n",
       "  'expiry date': '5th oct 2021'},\n",
       " '1026': {'name': '5 star ',\n",
       "  'price': 20,\n",
       "  'quantity': 105,\n",
       "  'date of manufacturing': '24th Aug 2021',\n",
       "  'expiry date': '1st oct 2021'},\n",
       " '1027': {'name': 'mars',\n",
       "  'price': 22,\n",
       "  'quantity': 170,\n",
       "  'date of manufacturing': '29th Aug 2021',\n",
       "  'expiry date': '28th oct 2021'},\n",
       " '1028': {'name': 'nullies ',\n",
       "  'price': 17,\n",
       "  'quantity': 180,\n",
       "  'date of manufacturing': '1st Aug 2021',\n",
       "  'expiry date': '1st oct 2021'},\n",
       " '1029': {'name': 'alpenliebe lollipop ',\n",
       "  'price': 2.5,\n",
       "  'quantity': 115,\n",
       "  'date of manufacturing': '4th Aug 2021',\n",
       "  'expiry date': '5th sept 2021'},\n",
       " '1030': {'name': 'dairy milk shots ',\n",
       "  'price': 40,\n",
       "  'quantity': 350,\n",
       "  'date of manufacturing': '26th Aug 2021',\n",
       "  'expiry date': '16th oct 2021'}}"
      ]
     },
     "execution_count": 42,
     "metadata": {},
     "output_type": "execute_result"
    }
   ],
   "source": [
    "record"
   ]
  },
  {
   "cell_type": "code",
   "execution_count": 43,
   "id": "f0ac92d9",
   "metadata": {},
   "outputs": [],
   "source": [
    "import time"
   ]
  },
  {
   "cell_type": "code",
   "execution_count": 44,
   "id": "fc97f586",
   "metadata": {},
   "outputs": [
    {
     "name": "stdout",
     "output_type": "stream",
     "text": [
      "date of purchase Sun Sep  5 10:59:59 2021\n"
     ]
    }
   ],
   "source": [
    "print(\"date of purchase\",time.ctime()) "
   ]
  },
  {
   "cell_type": "code",
   "execution_count": null,
   "id": "6ed9976f",
   "metadata": {},
   "outputs": [],
   "source": []
  }
 ],
 "metadata": {
  "kernelspec": {
   "display_name": "Python 3",
   "language": "python",
   "name": "python3"
  },
  "language_info": {
   "codemirror_mode": {
    "name": "ipython",
    "version": 3
   },
   "file_extension": ".py",
   "mimetype": "text/x-python",
   "name": "python",
   "nbconvert_exporter": "python",
   "pygments_lexer": "ipython3",
   "version": "3.8.8"
  }
 },
 "nbformat": 4,
 "nbformat_minor": 5
}
