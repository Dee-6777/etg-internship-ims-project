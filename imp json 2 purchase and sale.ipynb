{
 "cells": [
  {
   "cell_type": "code",
   "execution_count": 5,
   "id": "003bf521",
   "metadata": {},
   "outputs": [],
   "source": [
    "\n",
    "import time"
   ]
  },
  {
   "cell_type": "code",
   "execution_count": 6,
   "id": "4fb1548a",
   "metadata": {},
   "outputs": [],
   "source": [
    "import json\n",
    "\n",
    "fd = open ( \"record.json\",'r')\n",
    "txt = fd.read()\n",
    "fd.close()\n",
    "\n",
    "record= json.loads(txt)"
   ]
  },
  {
   "cell_type": "code",
   "execution_count": 7,
   "id": "c53cb2e5",
   "metadata": {},
   "outputs": [
    {
     "name": "stdout",
     "output_type": "stream",
     "text": [
      "enter the product_id: 1001\n",
      "enter the quantity: 20\n",
      "********************************************\n",
      "date of purchase Sun Sep  5 13:22:47 2021\n",
      "product:  dairy milk \n",
      "expiry date:  12th sept 2021\n",
      "price:  20\n",
      "Billing amount:  400\n",
      "********************************************\n",
      "Thank you, Visit again\n",
      "*********************************************\n"
     ]
    }
   ],
   "source": [
    "products = txt.split(\"\\n\")\n",
    "ui_prod = str(input(\"enter the product_id: \"))\n",
    "ui_quant = int(input(\"enter the quantity: \"))\n",
    "\n",
    "for product in products:\n",
    "    prod = product.split(\",\")\n",
    "    print(\"********************************************\")\n",
    "    print(\"date of purchase\",time.ctime()) \n",
    "    print(\"product: \",record[ui_prod]['name'])\n",
    "    print(\"expiry date: \",record[ui_prod]['expiry date'])\n",
    "    print(\"price: \",record[ui_prod]['price'])\n",
    "    print(\"Billing amount: \",record[ui_prod]['price']* ui_quant) \n",
    "    print(\"********************************************\")\n",
    "    print(\"Thank you, Visit again\")   \n",
    "    print(\"*********************************************\") \n",
    "    record[ui_prod]['quantity'] = record[ui_prod]['quantity'] - ui_quant     \n",
    "    \n",
    " "
   ]
  },
  {
   "cell_type": "code",
   "execution_count": 8,
   "id": "5873edb9",
   "metadata": {},
   "outputs": [
    {
     "data": {
      "text/plain": [
       "{'1001': {'name': 'dairy milk ',\n",
       "  'price': 20,\n",
       "  'quantity': 80,\n",
       "  'date of manufacturing': '1st Aug 2021',\n",
       "  'expiry date': '12th sept 2021'},\n",
       " '1002': {'name': 'kitkat ',\n",
       "  'price': 10,\n",
       "  'quantity': 50,\n",
       "  'date of manufacturing': '5th Aug 2021',\n",
       "  'expiry date': '11th sept 2021'},\n",
       " '1003': {'name': 'perk',\n",
       "  'price': 15,\n",
       "  'quantity': 90,\n",
       "  'date of manufacturing': '3rd Aug 2021',\n",
       "  'expiry date': '9th sept 2021'},\n",
       " '1004': {'name': 'gems ',\n",
       "  'price': 5,\n",
       "  'quantity': 95,\n",
       "  'date of manufacturing': '2nd Aug 2021',\n",
       "  'expiry date': '7th sept 2021'},\n",
       " '1005': {'name': 'bounville ',\n",
       "  'price': 200,\n",
       "  'quantity': 200,\n",
       "  'date of manufacturing': '21st Aug 2021',\n",
       "  'expiry date': '22nd sept 2021'},\n",
       " '1006': {'name': 'milky bar ',\n",
       "  'price': 25,\n",
       "  'quantity': 10,\n",
       "  'date of manufacturing': '4th Aug 2021',\n",
       "  'expiry date': '15th sept 2021'},\n",
       " '1007': {'name': 'dairy milk silk ',\n",
       "  'price': 100,\n",
       "  'quantity': 110,\n",
       "  'date of manufacturing': '14th Aug 2021',\n",
       "  'expiry date': '25th sept 2021'},\n",
       " '1008': {'name': 'dairy milk oreo',\n",
       "  'price': 180,\n",
       "  'quantity': 150,\n",
       "  'date ofmanufacturing ': '6th Aug 2021',\n",
       "  'expiry date': '14th sept 2021'},\n",
       " '1009': {'name': 'dairy milk fruit&nut ',\n",
       "  'price': 40,\n",
       "  'quantity': 160,\n",
       "  'date of manufacturing': '11th Aug 2021',\n",
       "  'expiry date': '19th sept 2021'},\n",
       " '1010': {'name': 'dairy milk bubbly',\n",
       "  'price': 80,\n",
       "  'quantity': 130,\n",
       "  'date of manufacturing': '19th Aug 2021',\n",
       "  'expiry date': '27th sept 2021'},\n",
       " '1011': {'name': 'dairy milk red velvet ',\n",
       "  'price': 220,\n",
       "  'quantity': 70,\n",
       "  'date of manufacturing': '18th Aug 2021',\n",
       "  'expiry date': '26th sept 2021'},\n",
       " '1012': {'name': 'dairy milk almonds',\n",
       "  'price': 50,\n",
       "  'quantity': 10,\n",
       "  'date of manufacturing': '10th Aug 2021',\n",
       "  'expiry date': '18th sept 2021'},\n",
       " '1013': {'name': 'munch ',\n",
       "  'price': 10,\n",
       "  'quantity': 100,\n",
       "  'date of manufacturing': '1st Aug 2021',\n",
       "  'expiry date': '10th sept 2021'},\n",
       " '1014': {'name': 'kinder joy ',\n",
       "  'price': 40,\n",
       "  'quantity': 105,\n",
       "  'date of manufacturing': '21st Aug 2021',\n",
       "  'expiry date': '12th oct 2021'},\n",
       " '1015': {'name': 'coffee bite ',\n",
       "  'price': 1,\n",
       "  'quantity': 500,\n",
       "  'date of manufacturing': '23rd Aug 2021',\n",
       "  'expiry date': '30th sept 2021'},\n",
       " '1016': {'name': 'centre fresh ',\n",
       "  'price': 2,\n",
       "  'quantity': 300,\n",
       "  'date of manufacturing': '9th Aug 2021',\n",
       "  'expiry date': '28th sept 2021'},\n",
       " '1017': {'name': 'vicks ',\n",
       "  'price': 3,\n",
       "  'quantity': 150,\n",
       "  'date of manufacturing': '11th Aug 2021',\n",
       "  'expiry date': '21st sept 2021'},\n",
       " '1018': {'name': 'kacha mango bite ',\n",
       "  'price': 0.5,\n",
       "  'quantity': 100,\n",
       "  'date of manufacturing': '13th Aug 2021',\n",
       "  'expiry date': '15th sept 2021'},\n",
       " '1019': {'name': 'amul dark chocolate ',\n",
       "  'price': 100,\n",
       "  'quantity': 80,\n",
       "  'date of manufacturing': '28th Aug 2021',\n",
       "  'expiry date': '11th oct 2021'},\n",
       " '1020': {'name': 'alpenliebe ',\n",
       "  'price': 50,\n",
       "  'quantity': 600,\n",
       "  'date of manufacturing': '30th Aug 2021',\n",
       "  'expiry date': '22nd oct 2021'},\n",
       " '1121': {'name': 'just jelly ',\n",
       "  'price': 1.5,\n",
       "  'quantity': 550,\n",
       "  'date of manufacturing': '25th Aug 2021',\n",
       "  'expiry date': '5th oct 2021'},\n",
       " '1022': {'name': 'amul chocominis ',\n",
       "  'price': 120,\n",
       "  'quantity': 1000,\n",
       "  'date of manufacturing': '13th Aug 2021',\n",
       "  'expiry date': '12th oct 2021'},\n",
       " '1023': {'name': 'ferrero rocher chocolate ',\n",
       "  'price': 137,\n",
       "  'quantity': 65,\n",
       "  'date of manufacturing': '7th Aug 2021',\n",
       "  'expiry date': '2nd oct 2021'},\n",
       " '1024': {'name': \"hershey's kisses cookies \",\n",
       "  'price': 139,\n",
       "  'quantity': 75,\n",
       "  'date of manufacturing': '15th Aug 2021',\n",
       "  'expiry date': '6th oct 2021'},\n",
       " '1025': {'name': 'snickers ',\n",
       "  'price': 35,\n",
       "  'quantity': 120,\n",
       "  'date of manufacturing': '22nd Aug 2021',\n",
       "  'expiry date': '5th oct 2021'},\n",
       " '1026': {'name': '5 star ',\n",
       "  'price': 20,\n",
       "  'quantity': 105,\n",
       "  'date of manufacturing': '24th Aug 2021',\n",
       "  'expiry date': '1st oct 2021'},\n",
       " '1027': {'name': 'mars',\n",
       "  'price': 22,\n",
       "  'quantity': 170,\n",
       "  'date of manufacturing': '29th Aug 2021',\n",
       "  'expiry date': '28th oct 2021'},\n",
       " '1028': {'name': 'nullies ',\n",
       "  'price': 17,\n",
       "  'quantity': 180,\n",
       "  'date of manufacturing': '1st Aug 2021',\n",
       "  'expiry date': '1st oct 2021'},\n",
       " '1029': {'name': 'alpenliebe lollipop ',\n",
       "  'price': 2.5,\n",
       "  'quantity': 115,\n",
       "  'date of manufacturing': '4th Aug 2021',\n",
       "  'expiry date': '5th sept 2021'},\n",
       " '1030': {'name': 'dairy milk shots ',\n",
       "  'price': 40,\n",
       "  'quantity': 350,\n",
       "  'date of manufacturing': '26th Aug 2021',\n",
       "  'expiry date': '16th oct 2021'}}"
      ]
     },
     "execution_count": 8,
     "metadata": {},
     "output_type": "execute_result"
    }
   ],
   "source": [
    "record"
   ]
  },
  {
   "cell_type": "code",
   "execution_count": 9,
   "id": "c57f6905",
   "metadata": {},
   "outputs": [],
   "source": [
    "js= json.dumps(record)\n",
    "fd = open(\"record.json\",'w')\n",
    "fd.write(js)\n",
    "fd.close()\n"
   ]
  },
  {
   "cell_type": "code",
   "execution_count": 14,
   "id": "063543d6",
   "metadata": {},
   "outputs": [],
   "source": [
    "\n",
    "\n",
    "sales = json.loads(txt)\n",
    "sales = {ui_prod:{\"product_id\":ui_prod,\"quantity\":ui_quant,\"product_name\":record[ui_prod][\"name\"],\"amount\":record[ui_prod][\"price\"]* ui_quant}}\n",
    "sale = json.dumps(sales)\n",
    "\n",
    "fs = open(\"sales.json\",\"w\")\n",
    "fs.write(sale)\n",
    "fs.close()"
   ]
  },
  {
   "cell_type": "code",
   "execution_count": 15,
   "id": "071f7d82",
   "metadata": {},
   "outputs": [
    {
     "data": {
      "text/plain": [
       "'{\"1001\": {\"product_id\": \"1001\", \"quantity\": 20, \"product_name\": \"dairy milk \", \"amount\": 400}}'"
      ]
     },
     "execution_count": 15,
     "metadata": {},
     "output_type": "execute_result"
    }
   ],
   "source": [
    "sale"
   ]
  },
  {
   "cell_type": "code",
   "execution_count": null,
   "id": "b57a3513",
   "metadata": {},
   "outputs": [],
   "source": []
  }
 ],
 "metadata": {
  "kernelspec": {
   "display_name": "Python 3",
   "language": "python",
   "name": "python3"
  },
  "language_info": {
   "codemirror_mode": {
    "name": "ipython",
    "version": 3
   },
   "file_extension": ".py",
   "mimetype": "text/x-python",
   "name": "python",
   "nbconvert_exporter": "python",
   "pygments_lexer": "ipython3",
   "version": "3.8.8"
  }
 },
 "nbformat": 4,
 "nbformat_minor": 5
}
