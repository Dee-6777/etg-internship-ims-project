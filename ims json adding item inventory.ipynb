{
 "cells": [
  {
   "cell_type": "code",
   "execution_count": 2,
   "id": "ee7ed87c",
   "metadata": {},
   "outputs": [],
   "source": [
    "records = { 1001 : { \"name\": \"dairy milk \", \"price\": 20, \"quantity\": 100 },\n",
    "           1002 : { \"name\": \"kitkat \", \"price\": 10, \"quantity\": 100 },\n",
    "           1003 : { \"name\":  \"perk\", \"price\": 15, \"quantity\": 90 },\n",
    "           1004 : { \"name\": \"gems \", \"price\": 5, \"quantity\": 95},\n",
    "           1005 : { \"name\": \"bounville \", \"price\": 200, \"quantity\": 200 }\n",
    "           \n",
    "          }"
   ]
  },
  {
   "cell_type": "code",
   "execution_count": 7,
   "id": "e38ac305",
   "metadata": {},
   "outputs": [],
   "source": [
    "import json\n",
    "js= json.dumps(records)"
   ]
  },
  {
   "cell_type": "code",
   "execution_count": 8,
   "id": "775e6a2b",
   "metadata": {},
   "outputs": [
    {
     "data": {
      "text/plain": [
       "'{\"1001\": {\"name\": \"dairy milk \", \"price\": 20, \"quantity\": 100}, \"1002\": {\"name\": \"kitkat \", \"price\": 10, \"quantity\": 100}, \"1003\": {\"name\": \"perk\", \"price\": 15, \"quantity\": 90}, \"1004\": {\"name\": \"gems \", \"price\": 5, \"quantity\": 95}, \"1005\": {\"name\": \"bounville \", \"price\": 200, \"quantity\": 200}}'"
      ]
     },
     "execution_count": 8,
     "metadata": {},
     "output_type": "execute_result"
    }
   ],
   "source": [
    "js"
   ]
  },
  {
   "cell_type": "code",
   "execution_count": 9,
   "id": "62c5b78d",
   "metadata": {},
   "outputs": [],
   "source": [
    "fd = open(\"records.json\",'w')\n",
    "fd.write(js)\n",
    "fd.close()"
   ]
  },
  {
   "cell_type": "code",
   "execution_count": 10,
   "id": "eee1c045",
   "metadata": {},
   "outputs": [],
   "source": [
    "fd = open(\"records.json\",'r')\n",
    "txt=fd.read()\n",
    "fd.close()"
   ]
  },
  {
   "cell_type": "code",
   "execution_count": 13,
   "id": "74eaa1bd",
   "metadata": {},
   "outputs": [],
   "source": [
    "records= json.loads(txt)"
   ]
  },
  {
   "cell_type": "code",
   "execution_count": 14,
   "id": "a4bfbb87",
   "metadata": {},
   "outputs": [
    {
     "data": {
      "text/plain": [
       "{'1001': {'name': 'dairy milk ', 'price': 20, 'quantity': 100},\n",
       " '1002': {'name': 'kitkat ', 'price': 10, 'quantity': 100},\n",
       " '1003': {'name': 'perk', 'price': 15, 'quantity': 90},\n",
       " '1004': {'name': 'gems ', 'price': 5, 'quantity': 95},\n",
       " '1005': {'name': 'bounville ', 'price': 200, 'quantity': 200}}"
      ]
     },
     "execution_count": 14,
     "metadata": {},
     "output_type": "execute_result"
    }
   ],
   "source": [
    "records"
   ]
  },
  {
   "cell_type": "code",
   "execution_count": 11,
   "id": "bb84f25e",
   "metadata": {},
   "outputs": [
    {
     "name": "stdout",
     "output_type": "stream",
     "text": [
      "enter product id: 1006\n",
      "enter name: 5 star\n",
      "enter price: 15\n",
      "enter quantity: 50\n"
     ]
    }
   ],
   "source": [
    "import json\n",
    "\n",
    "fd = open ( \"records.json\",'r')\n",
    "txt = fd.read()\n",
    "fd.close()\n",
    "\n",
    "records= json.loads(txt)\n",
    "\n",
    "ui_prod = str(input(\"enter product id: \"))\n",
    "name = str(input(\"enter name: \"))\n",
    "price = int(input(\"enter price: \"))\n",
    "quantity = int(input(\"enter quantity: \"))\n",
    "\n",
    "records[ui_prod] = {'name': name, 'price': price, 'quantity': quantity }\n",
    "\n",
    "js = json.dumps(records)\n",
    "fd = open(\"records.json\",'w')\n",
    "fd.write(js)\n",
    "fd.close()\n"
   ]
  },
  {
   "cell_type": "code",
   "execution_count": 12,
   "id": "a3757ecf",
   "metadata": {},
   "outputs": [
    {
     "data": {
      "text/plain": [
       "{'1001': {'name': 'dairy milk ', 'price': 20, 'quantity': 100},\n",
       " '1002': {'name': 'kitkat ', 'price': 10, 'quantity': 100},\n",
       " '1003': {'name': 'perk', 'price': 15, 'quantity': 90},\n",
       " '1004': {'name': 'gems ', 'price': 5, 'quantity': 95},\n",
       " '1005': {'name': 'bounville ', 'price': 200, 'quantity': 200},\n",
       " '1006': {'name': '5 star', 'price': 15, 'quantity': 50}}"
      ]
     },
     "execution_count": 12,
     "metadata": {},
     "output_type": "execute_result"
    }
   ],
   "source": [
    "records"
   ]
  },
  {
   "cell_type": "code",
   "execution_count": null,
   "id": "c927d3c5",
   "metadata": {},
   "outputs": [],
   "source": []
  }
 ],
 "metadata": {
  "kernelspec": {
   "display_name": "Python 3",
   "language": "python",
   "name": "python3"
  },
  "language_info": {
   "codemirror_mode": {
    "name": "ipython",
    "version": 3
   },
   "file_extension": ".py",
   "mimetype": "text/x-python",
   "name": "python",
   "nbconvert_exporter": "python",
   "pygments_lexer": "ipython3",
   "version": "3.8.8"
  }
 },
 "nbformat": 4,
 "nbformat_minor": 5
}
